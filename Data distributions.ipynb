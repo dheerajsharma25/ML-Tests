{
 "cells": [
  {
   "cell_type": "markdown",
   "id": "764006da",
   "metadata": {},
   "source": [
    "## Probability Distributions:\n",
    "    These shows all the possible values for a variable given and their total number of occurences;\n",
    "                        This is of two types \n",
    "    1:  Discrete probability\n",
    "        a) Bernoulli Distribution\n",
    "        b) Binomial Distribution\n",
    "        c) Poisson Distribution\n",
    "        etc->\n",
    "<a href=\"https://www.analyticsvidhya.com/blog/2021/01/discrete-probability-distributions/#:~:text=Discrete%20Probability%20Distributions%201%20Bernoulli%20Distribution.%20This%20distribution,describes%20the%20random%20variables%20with%20many%20possible%20outcomes.\">for reference click here</a>\n",
    "        \n",
    "    2:  Continuous probability\n",
    "        a) Uniform\n",
    "        b) Normal\n",
    "        etc ->\n",
    "<a href=\"https://www.programsbuzz.com/article/types-continuous-probability-distributions\">for reference click here</a>\n",
    "        "
   ]
  },
  {
   "cell_type": "markdown",
   "id": "bcb8b304",
   "metadata": {},
   "source": [
    "###### 1: Discret = countable\n",
    "        In descrete distribution each value is associated with a non-zero probability; the vales will be real\n",
    "            a) Bernoulli\n",
    "                It deals with data or experiments having just two values-Tue or False:\n",
    "                Let's try this to get hands on experience"
   ]
  },
  {
   "cell_type": "code",
   "execution_count": 24,
   "id": "5d1e1dc8",
   "metadata": {},
   "outputs": [],
   "source": [
    "# We can use scipy library for bernoulli\n",
    "from scipy.stats import bernoulli\n"
   ]
  },
  {
   "cell_type": "code",
   "execution_count": 34,
   "id": "aa93b6a6",
   "metadata": {},
   "outputs": [
    {
     "name": "stdout",
     "output_type": "stream",
     "text": [
      "0.0 0.7\n"
     ]
    }
   ],
   "source": [
    "p = 0.3\n",
    "x = 2\n",
    "x = bernoulli.pmf(x,p)\n",
    "y = bernoulli.cdf(x, p)\n",
    "print(x,y)"
   ]
  },
  {
   "cell_type": "code",
   "execution_count": 35,
   "id": "ab26fe1a",
   "metadata": {},
   "outputs": [],
   "source": [
    "# Binomial distribution using scipy\n",
    "# The binomial distribution arises where we are observing a sequence of Bernoulli trials\n",
    "from scipy.stats import binom\n",
    "import matplotlib.pyplot as plt\n",
    "n = 40\n",
    "p = 0.8"
   ]
  },
  {
   "cell_type": "code",
   "execution_count": 39,
   "id": "ae5b4f30",
   "metadata": {},
   "outputs": [
    {
     "data": {
      "image/png": "[encoded data removed]",
      "text/plain": [
       "<Figure size 432x288 with 1 Axes>"
      ]
     },
     "metadata": {
      "needs_background": "light"
     },
     "output_type": "display_data"
    }
   ],
   "source": [
    "r = list(range(n + 1))\n",
    "dist = binom.pmf(r, n, p) #probability mass function\n",
    "\n",
    "plt.bar(r, dist, width=0.9, color='red')\n",
    "plt.title('Binomial Distribution')\n",
    "plt.show()"
   ]
  },
  {
   "cell_type": "code",
   "execution_count": 45,
   "id": "acffb159",
   "metadata": {},
   "outputs": [
    {
     "name": "stdout",
     "output_type": "stream",
     "text": [
      "[ 9  6  7  6  4  7  7  9  8  7  6  6  8  9  8  5  8  7  5 10]\n"
     ]
    },
    {
     "name": "stderr",
     "output_type": "stream",
     "text": [
      "C:\\Users\\conne\\AppData\\Local\\Programs\\Python\\Python310\\lib\\site-packages\\seaborn\\distributions.py:2619: FutureWarning: `distplot` is a deprecated function and will be removed in a future version. Please adapt your code to use either `displot` (a figure-level function with similar flexibility) or `histplot` (an axes-level function for histograms).\n",
      "  warnings.warn(msg, FutureWarning)\n"
     ]
    },
    {
     "data": {
      "text/plain": [
       "<AxesSubplot:>"
      ]
     },
     "execution_count": 45,
     "metadata": {},
     "output_type": "execute_result"
    },
    {
     "data": {
      "image/png": "[encoded data removed]",
      "text/plain": [
       "<Figure size 432x288 with 1 Axes>"
      ]
     },
     "metadata": {
      "needs_background": "light"
     },
     "output_type": "display_data"
    }
   ],
   "source": [
    "import seaborn as sns\n",
    "distt = binom.rvs(n=10,p=0.7,size=20, random_state=7)\n",
    "print(distt)\n",
    "sns.distplot(binom.rvs(n=10,p=0.5,size=1000, random_state=7),\n",
    "             hist=True, kde=False, color='red')"
   ]
  },
  {
   "cell_type": "code",
   "execution_count": null,
   "id": "f010d8cc",
   "metadata": {},
   "outputs": [],
   "source": [
    "# Poisson distribution \n",
    "# if the average rate at which a specific event happens within a specified time frame is known or can be determined,\n",
    "# then the Poisson Distribution can be used \n"
   ]
  },
  {
   "cell_type": "code",
   "execution_count": 59,
   "id": "b9facb00",
   "metadata": {},
   "outputs": [
    {
     "data": {
      "text/plain": [
       "0.03608940886309672"
      ]
     },
     "execution_count": 59,
     "metadata": {},
     "output_type": "execute_result"
    }
   ],
   "source": [
    "from scipy.stats import poisson\n",
    "\n",
    "poisson.pmf(5, 2) #poisson_distribution(k=5, lambd=2) k=total test observation; lanbda= total observations in a time\n",
    "# Answer shows the probabilty of getting 5 hits based on the previous 2 hits that we received "
   ]
  },
  {
   "cell_type": "markdown",
   "id": "3f4946fc",
   "metadata": {},
   "source": [
    "###### <a href = 'https://towardsdatascience.com/poisson-distribution-intuition-and-derivation-1059aeab90d'> Here's a wonderful read to understand deeply  </a>"
   ]
  },
  {
   "cell_type": "code",
   "execution_count": null,
   "id": "b43fcd07",
   "metadata": {},
   "outputs": [],
   "source": []
  },
  {
   "cell_type": "markdown",
   "id": "5bdf5e57",
   "metadata": {},
   "source": [
    "<!-- Probability Mass Function (PMF): is used for discrete distributions. It answers the question: \n",
    "        what is the probability that we get exactly X.\n",
    "Probability Density Function (PDF): is used for continuous distributions. It answers the question:\n",
    "        what is the probability that we get a value greater than z and smaller than b (z ≤ xi ≤ b).\n",
    "Cumulative Distribution Function (CDF): What is the probability that we get some value equal to or smaller than X?  -->"
   ]
  },
  {
   "cell_type": "code",
   "execution_count": null,
   "id": "0f610234",
   "metadata": {},
   "outputs": [],
   "source": [
    "# Probability Mass Function (PMF): is used for discrete distributions. It answers the question:\n",
    "#         what is the probability that we get exactly X.\n",
    "# Probability Density Function (PDF): is used for continuous distributions. It answers the question:\n",
    "#         what is the probability that we get a value greater than z and smaller than b (z ≤ xi ≤ b).\n",
    "# Cumulative Distribution Function (CDF): What is the probability that we get some value equal to or smaller than X? "
   ]
  },
  {
   "cell_type": "markdown",
   "id": "c319fafe",
   "metadata": {},
   "source": [
    "##### 1. UNIFORM distribution\n",
    "\n",
    "    The uniform distribution is about events that have eqqual probability of happening\n",
    "    eg: Rolling of dice; every side has equal chance to be on top\n",
    "    \n",
    "    Numpy and Scipy both can be used to create uniform distributions;"
   ]
  },
  {
   "cell_type": "code",
   "execution_count": 31,
   "id": "3e85e588",
   "metadata": {},
   "outputs": [],
   "source": [
    "import numpy as np\n",
    "from scipy.stats import uniform\n",
    "import matplotlib.pyplot as plt\n"
   ]
  },
  {
   "cell_type": "code",
   "execution_count": 32,
   "id": "c261ce0c",
   "metadata": {},
   "outputs": [],
   "source": [
    "x = np.arange(1, 10, 2)\n",
    "y = uniform.pdf(x=x, loc=2, scale=6) #here loc=lower bound and scale =upper bound"
   ]
  },
  {
   "cell_type": "code",
   "execution_count": 33,
   "id": "bf609fbe",
   "metadata": {},
   "outputs": [
    {
     "data": {
      "image/png": "[encoded data removed]",
      "text/plain": [
       "<Figure size 432x288 with 1 Axes>"
      ]
     },
     "metadata": {
      "needs_background": "light"
     },
     "output_type": "display_data"
    }
   ],
   "source": [
    "plt.plot(x, y, color='Blue')\n",
    "plt.title('Uniform (PDF)')\n",
    "plt.xlabel('Uniform values')\n",
    "plt.ylabel('Probabilities')\n",
    "plt.show()"
   ]
  },
  {
   "cell_type": "code",
   "execution_count": null,
   "id": "72fba2ba",
   "metadata": {},
   "outputs": [],
   "source": []
  },
  {
   "cell_type": "code",
   "execution_count": 46,
   "id": "2e9177cf",
   "metadata": {},
   "outputs": [],
   "source": [
    "# Noraml distribution\n",
    "# A normal distribution has a mean of zero, a standard deviation of 1\n",
    "# it is continuous probability distribution that describes data clustered around the mean"
   ]
  },
  {
   "cell_type": "code",
   "execution_count": 57,
   "id": "783a59ab",
   "metadata": {},
   "outputs": [
    {
     "name": "stderr",
     "output_type": "stream",
     "text": [
      "C:\\Users\\conne\\AppData\\Local\\Programs\\Python\\Python310\\lib\\site-packages\\seaborn\\distributions.py:2619: FutureWarning: `distplot` is a deprecated function and will be removed in a future version. Please adapt your code to use either `displot` (a figure-level function with similar flexibility) or `histplot` (an axes-level function for histograms).\n",
      "  warnings.warn(msg, FutureWarning)\n"
     ]
    },
    {
     "data": {
      "image/png": "[encoded data removed]",
      "text/plain": [
       "<Figure size 432x288 with 1 Axes>"
      ]
     },
     "metadata": {
      "needs_background": "light"
     },
     "output_type": "display_data"
    }
   ],
   "source": [
    "from scipy.stats import norm\n",
    "import matplotlib.pyplot as plt\n",
    "import seaborn as sns\n",
    "np.random.seed(111) #save this state to reuse the same data;\n",
    "\n",
    "x = norm.rvs(0, 1, 100000) #if we take 2 insted of 1 the shape will be more elongated \n",
    "\n",
    "sns.distplot(x, bins=75, color='red',\n",
    "             hist_kws={\"edgecolor\": 'red'})\n",
    "plt.title('Standard Normal Distribution')\n",
    "plt.xlabel('Normally distributed values')\n",
    "plt.ylabel('Frequency')\n",
    "plt.show()"
   ]
  },
  {
   "cell_type": "code",
   "execution_count": null,
   "id": "701a5fe3",
   "metadata": {},
   "outputs": [],
   "source": []
  },
  {
   "cell_type": "code",
   "execution_count": null,
   "id": "d9a92c76",
   "metadata": {},
   "outputs": [],
   "source": []
  },
  {
   "cell_type": "code",
   "execution_count": null,
   "id": "b1b77aed",
   "metadata": {},
   "outputs": [],
   "source": []
  }
 ],
 "metadata": {
  "kernelspec": {
   "display_name": "Python 3 (ipykernel)",
   "language": "python",
   "name": "python3"
  },
  "language_info": {
   "codemirror_mode": {
    "name": "ipython",
    "version": 3
   },
   "file_extension": ".py",
   "mimetype": "text/x-python",
   "name": "python",
   "nbconvert_exporter": "python",
   "pygments_lexer": "ipython3",
   "version": "3.10.6"
  },
  "varInspector": {
   "cols": {
    "lenName": 16,
    "lenType": 16,
    "lenVar": 40
   },
   "kernels_config": {
    "python": {
     "delete_cmd_postfix": "",
     "delete_cmd_prefix": "del ",
     "library": "var_list.py",
     "varRefreshCmd": "print(var_dic_list())"
    },
    "r": {
     "delete_cmd_postfix": ") ",
     "delete_cmd_prefix": "rm(",
     "library": "var_list.r",
     "varRefreshCmd": "cat(var_dic_list()) "
    }
   },
   "types_to_exclude": [
    "module",
    "function",
    "builtin_function_or_method",
    "instance",
    "_Feature"
   ],
   "window_display": false
  }
 },
 "nbformat": 4,
 "nbformat_minor": 5
}
