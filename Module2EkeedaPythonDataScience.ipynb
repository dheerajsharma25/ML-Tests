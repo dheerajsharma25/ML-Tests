{
 "cells": [
  {
   "cell_type": "code",
   "execution_count": 16,
   "id": "41d17252",
   "metadata": {},
   "outputs": [
    {
     "name": "stdout",
     "output_type": "stream",
     "text": [
      "<class 'str'>\n"
     ]
    }
   ],
   "source": [
    "x = \"xyz\"\n",
    "\n",
    "print(type(x))"
   ]
  },
  {
   "cell_type": "code",
   "execution_count": 25,
   "id": "b26227ab",
   "metadata": {},
   "outputs": [
    {
     "name": "stdout",
     "output_type": "stream",
     "text": [
      "5000\n"
     ]
    }
   ],
   "source": [
    "# Different ways/types to declare variables\n",
    "# age = 25 #integer\n",
    "# salary = 2000.50 #float\n",
    "# name = \"Xyz\" #str\n",
    "# ways\n",
    "# age,salary,name = 25,2000.50, \"Xyx\"\n",
    "\n",
    "x=y=z=1000\n",
    "x = 5000\n",
    "print(x)\n",
    "\n",
    "    \n",
    "# print(age)\n",
    "# print(salary)\n",
    "# print(name)"
   ]
  },
  {
   "cell_type": "code",
   "execution_count": 26,
   "id": "c33453ac",
   "metadata": {},
   "outputs": [
    {
     "name": "stdout",
     "output_type": "stream",
     "text": [
      "26\n"
     ]
    }
   ],
   "source": [
    "# Re declare a same variable; dont do this\n",
    "age = 25\n",
    "salary = 2000.50 #float\n",
    "name = \"Xyz\" #str\n",
    "\n",
    "age = 26\n",
    "print(age)"
   ]
  },
  {
   "cell_type": "code",
   "execution_count": 27,
   "id": "c582407b",
   "metadata": {},
   "outputs": [
    {
     "ename": "NameError",
     "evalue": "name 'name1' is not defined",
     "output_type": "error",
     "traceback": [
      "\u001b[1;31m---------------------------------------------------------------------------\u001b[0m",
      "\u001b[1;31mNameError\u001b[0m                                 Traceback (most recent call last)",
      "Input \u001b[1;32mIn [27]\u001b[0m, in \u001b[0;36m<cell line: 9>\u001b[1;34m()\u001b[0m\n\u001b[0;32m      5\u001b[0m num1\u001b[38;5;241m=\u001b[39m\u001b[38;5;241m10\u001b[39m\n\u001b[0;32m      6\u001b[0m name3 \u001b[38;5;241m=\u001b[39m \u001b[38;5;124m\"\u001b[39m\u001b[38;5;124my\u001b[39m\u001b[38;5;124m\"\u001b[39m\n\u001b[1;32m----> 9\u001b[0m \u001b[38;5;28mprint\u001b[39m(\u001b[43mname1\u001b[49m\u001b[38;5;241m+\u001b[39mname2)\n",
      "\u001b[1;31mNameError\u001b[0m: name 'name1' is not defined"
     ]
    }
   ],
   "source": [
    "# Addition of two variables\n",
    "# name1=\"x\"\n",
    "# name2 = \"y\"\n",
    "\n",
    "num1=10\n",
    "name3 = \"y\"\n",
    "\n",
    "\n",
    "print(name1+name2)"
   ]
  },
  {
   "cell_type": "markdown",
   "id": "2b028384",
   "metadata": {},
   "source": [
    "## data type in Python ''Builtin''\n",
    "\n",
    "1. Nums\n",
    "2. Bool\n",
    "3. string\n",
    "4. Dict\n",
    "5. Set\n",
    "6. Sequences types = Strings, List, Tuple\n"
   ]
  },
  {
   "cell_type": "code",
   "execution_count": 9,
   "id": "d79d4504",
   "metadata": {},
   "outputs": [
    {
     "name": "stdout",
     "output_type": "stream",
     "text": [
      "nums/numerical data  555\n",
      "<class 'bool'>\n",
      "<class 'bool'>\n",
      "True\n",
      "{'a', 'k', 'E', 'd', 'e'}\n",
      "to\n",
      "['python', 'Is', 'The', 'Best']\n",
      "[101, ['Dhee', 2022], 3.17]\n"
     ]
    }
   ],
   "source": [
    "# Nums type data/ numerical values\n",
    "variab = 555\n",
    "print(\"nums/numerical data \", variab)\n",
    "# print(type(variab))\n",
    "\n",
    "# Bool type of data\n",
    "print(type(True))\n",
    "print(type(False))\n",
    "var = 'Hello there welcome of ds AugBatch'\n",
    "print(\"Hello\" in var)\n",
    "\n",
    " \n",
    "# Set datatype \n",
    "set1 = set(\"Ekeeda\")\n",
    "print(set1)\n",
    " \n",
    "# Dict or Dictionary datatype\n",
    "\n",
    "Dict = {1: 'Welcome', 2: 'to', 3: 'ekeeda'}\n",
    "print(Dict[2])\n",
    "\n",
    "\n",
    "# Sequences\n",
    "# 1> Strings\n",
    "# Strings are immutable i.e they cant be changed\n",
    "\n",
    "name = \"Ekeeda\"\n",
    "print(name[2]) \n",
    "name[2] = 'k' #updating the value\n",
    "# print(name)\n",
    "\n",
    "# 2> Lists\n",
    "# There are mutable and can be defined using () or [] brtackets\n",
    "\n",
    "\n",
    "\n",
    "li1= ['python', 'Is', 'The', 'Best']\n",
    "li2= []\n",
    "li3= [101, ['Hey', 2022], 3.17]\n",
    "li4= [{'The': 'python'}, (1, 2)]\n",
    "\n",
    "\n",
    "print(li1)\n",
    "li1[1] = 'Dhee'\n",
    "print(li1)\n",
    "\n",
    "\n",
    "# 3.> Tuples \n",
    "# They are declared using () or tuple() and are immutable\n",
    "\n",
    "tup1= ['python', 'Is', 'The', 'Best']\n",
    "tup2= tuple()\n",
    "tup3= [101, ['Hey', 2022], 3.17]\n",
    "tup4= [{'The': 'python'}, (1, 2)]\n",
    "\n"
   ]
  },
  {
   "cell_type": "markdown",
   "id": "87bee7d0",
   "metadata": {},
   "source": [
    "### Type Conversion in Python\n",
    "        >Types:\n",
    "        1. Implicit\n",
    "        2. Explicit Conversion\n",
    "    -int(a, base)\n",
    "    -float()\n",
    "    -ord()\n",
    "    -tuple()\n",
    "    -set()\n",
    "    -list()\n",
    "    -dict()\n",
    "    -str()"
   ]
  },
  {
   "cell_type": "code",
   "execution_count": 61,
   "id": "338cbc43",
   "metadata": {},
   "outputs": [
    {
     "name": "stdout",
     "output_type": "stream",
     "text": [
      "1\n"
     ]
    }
   ],
   "source": [
    "# Example of implicit\n",
    "x = 5\n",
    "y = 5.5\n",
    "# print(int(z))\n",
    "# print(x+y)\n",
    "\n",
    "# Explicit conversion examples:\n",
    "# 1. Int\n",
    "# var = \"45\"\n",
    "# varr2 = int(var)\n",
    "# print(varr2)\n",
    "\n",
    "# 2.Float\n",
    "# x = 5\n",
    "# var = float(x)\n",
    "# print(var)\n",
    "\n",
    "\n",
    "# 3. Ord()\n",
    "\n",
    "# var = '48'\n",
    "# temp = ord(var)\n",
    "# print(temp)\n",
    "\n",
    "\n",
    "# 4. Tuple()\n",
    "\n",
    "# var = \"Ekeeda\"\n",
    "# print(type(var))\n",
    "\n",
    "\n",
    "\n",
    "\n",
    "\n",
    "\n",
    "\n",
    "\n",
    "\n",
    "\n",
    "\n",
    "\n",
    "# # 5.list()\n",
    "\n",
    "# print(list(var))\n",
    "\n",
    "# # 6. set\n",
    "\n",
    "# print(set(var))\n",
    "\n",
    "# 7. dict()\n",
    "\n",
    "# var = ((1,'a'),(2,'b'))\n",
    "\n",
    "# print(dict(var))\n",
    "# 8. str()\n",
    "\n",
    "var = 1\n",
    "print(str(var))\n"
   ]
  },
  {
   "cell_type": "markdown",
   "id": "858485e5",
   "metadata": {},
   "source": [
    "###            Bitwise operators\n",
    "    1. &         AND\t x & y\n",
    "    2. |\t      OR\t x | y\n",
    "    3. ~\t      NOT\t ~x\n",
    "    4. ^\t     XOR\t x ^ y\n",
    "    5. >>\tBitwise right shift\tx>>\n",
    "    6. <<\tBitwise left shift\tx<<"
   ]
  },
  {
   "cell_type": "code",
   "execution_count": 33,
   "id": "b056aa05",
   "metadata": {},
   "outputs": [
    {
     "name": "stdout",
     "output_type": "stream",
     "text": [
      "-100\n"
     ]
    }
   ],
   "source": [
    "\n",
    "a = 10\n",
    "b = 4\n",
    " \n",
    "#  bitwise AND operation\n",
    "# When both are true=true else false\n",
    "print(\"a & b =\", a & b)\n",
    " \n",
    "# bitwise OR operation\n",
    "# if any of the value is true=true\n",
    "print(\"a | b =\", a | b)\n",
    " \n",
    "# bitwise NOT operation\n",
    "\n",
    "print(\"~a =\", ~a)\n",
    " \n",
    "# bitwise XOR operation\n",
    "print(\"a ^ b =\", a ^ b)\n",
    "\n",
    "print(bin(a)[2:])\n",
    "print(bin(a>>1)[2:])\n"
   ]
  },
  {
   "cell_type": "code",
   "execution_count": null,
   "id": "e8a25c76",
   "metadata": {},
   "outputs": [],
   "source": []
  },
  {
   "cell_type": "markdown",
   "id": "95dfeab5",
   "metadata": {},
   "source": [
    "### Conditional statements"
   ]
  },
  {
   "cell_type": "code",
   "execution_count": null,
   "id": "8d22f290",
   "metadata": {},
   "outputs": [],
   "source": [
    "x = 0\n",
    "y = 5\n",
    "\n",
    "if x < y:                            \n",
    "    print('yes')\n",
    "\n",
    " if y < x:                           \n",
    "     print('yes')\n",
    "\n",
    "\n",
    "if x:                                \n",
    "    print('yes')\n",
    "\n",
    "if y:                                \n",
    "    print('yes')\n",
    "\n",
    "\n",
    "\n",
    "if x or y:                          \n",
    "     print('yes')\n",
    "\n",
    "\n",
    " if x and y:                         \n",
    "    print('yes')\n",
    "\n",
    "\n",
    "if 'Dhee' in 'Dheeeraj':                \n",
    "     print('yes'\n",
    "if 'x' in ['a', 'v', 'x']: \n",
    "    print('yes'"
   ]
  },
  {
   "cell_type": "code",
   "execution_count": 22,
   "id": "0d904300",
   "metadata": {},
   "outputs": [
    {
     "name": "stdout",
     "output_type": "stream",
     "text": [
      "Hello Joe\n",
      "Hello Joe\n"
     ]
    }
   ],
   "source": [
    "# name = 'Joe'\n",
    "# if name == 'Fred':\n",
    "#     print('Hello Fred')\n",
    "# elif name == 'Xander':\n",
    "#     print('Hello Xander')\n",
    "# elif name == 'Joe':\n",
    "#   print('Hello Joe')\n",
    "# elif name == 'Arnold':\n",
    "#    print('Hello Arnold')\n",
    "# else:\n",
    "#     print(\"I don't know who you are!\")\n",
    "    \n",
    "    \n",
    "#     __________________________________________________\n",
    "\n",
    "names = {\n",
    "  'Fred': 'Hello Fred',\n",
    " 'Xander': 'Hello Xander',\n",
    "    'Joe': 'Hello Joe',\n",
    "  'Arnold': 'Hello Arnold'\n",
    "}\n",
    "\n",
    "print(names.get('Joe', \"I don't know who you are!\"))\n",
    "\n",
    "print(names.get('Rick', \"I don't know who you are!\"))\n",
    "\n",
    "    \n",
    "    "
   ]
  },
  {
   "cell_type": "code",
   "execution_count": null,
   "id": "18848606",
   "metadata": {},
   "outputs": [],
   "source": []
  },
  {
   "cell_type": "code",
   "execution_count": 103,
   "id": "ed17eaa7",
   "metadata": {},
   "outputs": [
    {
     "name": "stdout",
     "output_type": "stream",
     "text": [
      "[8, 1, 8, 3, 3, 3, 2]\n",
      "[True, False, True, False, False, False, True]\n",
      "[[0]\n",
      " [2]\n",
      " [6]]\n",
      "\n",
      "2    8\n",
      "dtype: int32\n"
     ]
    }
   ],
   "source": [
    "import pandas as pd\n",
    "import numpy as np\n",
    "series = pd.Series(np.random.randint(1, 12, 7))\n",
    "print(list(series))\n",
    "x = list(series%2==0)\n",
    "print(x)\n",
    "res_ind = np.argwhere(x)\n",
    "print(res_ind)\n",
    "print()\n",
    "print(series[res_ind[1]])\n",
    "# def generate(series):\n",
    "#     mult_four = np.argwhere(series>2)\n",
    "#     return mult_four\n",
    "# generate(series)"
   ]
  },
  {
   "cell_type": "code",
   "execution_count": 72,
   "id": "bc05507f",
   "metadata": {},
   "outputs": [
    {
     "name": "stdout",
     "output_type": "stream",
     "text": [
      "yayyyy\n"
     ]
    }
   ],
   "source": [
    "x = 11\n",
    "y = 10\n",
    "if y>x:\n",
    "    print(\"y is greater\")\n",
    "elif x>=y:\n",
    "    print(\"yayyyy\")\n",
    "\n",
    "else:\n",
    "    print(\"some error\")\n"
   ]
  },
  {
   "cell_type": "code",
   "execution_count": null,
   "id": "29b9acfe",
   "metadata": {},
   "outputs": [],
   "source": []
  }
 ],
 "metadata": {
  "kernelspec": {
   "display_name": "Python 3 (ipykernel)",
   "language": "python",
   "name": "python3"
  },
  "language_info": {
   "codemirror_mode": {
    "name": "ipython",
    "version": 3
   },
   "file_extension": ".py",
   "mimetype": "text/x-python",
   "name": "python",
   "nbconvert_exporter": "python",
   "pygments_lexer": "ipython3",
   "version": "3.10.6"
  },
  "varInspector": {
   "cols": {
    "lenName": 16,
    "lenType": 16,
    "lenVar": 40
   },
   "kernels_config": {
    "python": {
     "delete_cmd_postfix": "",
     "delete_cmd_prefix": "del ",
     "library": "var_list.py",
     "varRefreshCmd": "print(var_dic_list())"
    },
    "r": {
     "delete_cmd_postfix": ") ",
     "delete_cmd_prefix": "rm(",
     "library": "var_list.r",
     "varRefreshCmd": "cat(var_dic_list()) "
    }
   },
   "types_to_exclude": [
    "module",
    "function",
    "builtin_function_or_method",
    "instance",
    "_Feature"
   ],
   "window_display": false
  }
 },
 "nbformat": 4,
 "nbformat_minor": 5
}
